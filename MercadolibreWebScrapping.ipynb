{
 "cells": [
  {
   "cell_type": "markdown",
   "metadata": {},
   "source": [
    "WEBSCRAPING MERCADOLIBRE"
   ]
  },
  {
   "cell_type": "code",
   "execution_count": 239,
   "metadata": {},
   "outputs": [],
   "source": [
    "import pandas as pd\n",
    "import matplotlib as plt\n",
    "from bs4 import BeautifulSoup\n",
    "import requests"
   ]
  },
  {
   "cell_type": "markdown",
   "metadata": {},
   "source": [
    "Create the headers"
   ]
  },
  {
   "cell_type": "code",
   "execution_count": 240,
   "metadata": {},
   "outputs": [],
   "source": [
    "headers = {\n",
    "    'User-Agent' : 'Mozilla/5.0 (Windows NT 10.0; Win64; x64) AppleWebKit/537.36 (KHTML, like Gecko) Chrome/74.0.3729.169 Safari/537.36'\n",
    "}"
   ]
  },
  {
   "cell_type": "markdown",
   "metadata": {},
   "source": [
    "Get links"
   ]
  },
  {
   "cell_type": "code",
   "execution_count": 241,
   "metadata": {},
   "outputs": [],
   "source": [
    "productlinks = []\n",
    "pages = ('', 'Desde_51_', 'Desde_101_', 'Desde_151_')\n",
    "for x in pages:\n",
    "    r = requests.get(f'https://listado.mercadolibre.com.co/consolas-videojuegos/consolas/sony/pplaystation-5_{x}NoIndex_True')\n",
    "    soup = BeautifulSoup(r.content)\n",
    "    productlist = soup.find_all('div', class_='ui-search-result__content-wrapper')\n",
    "    for item in productlist:\n",
    "        for link in item.find_all('a', href=True):\n",
    "            productlinks.append(link['href'])"
   ]
  },
  {
   "cell_type": "markdown",
   "metadata": {},
   "source": [
    "Get information by links"
   ]
  },
  {
   "cell_type": "code",
   "execution_count": null,
   "metadata": {},
   "outputs": [],
   "source": [
    "productlist = []\n",
    "for link in productlinks:\n",
    "    url = link\n",
    "    r = requests.get(url, headers=headers)\n",
    "    soup = BeautifulSoup(r.content)\n",
    "    generalinfo = soup.find('div', class_='ui-pdp-header__info')\n",
    "    try:\n",
    "        price = soup.find('span', class_='andes-money-amount__fraction').text.strip()\n",
    "    except:\n",
    "        price = 0\n",
    "    # color = soup.find('span', class_='picker-label-COLOR_SECONDARY_COLOR').text.strip()\n",
    "    try:\n",
    "        name = soup.find('h1').text.strip()\n",
    "    except:\n",
    "        name = soup.find('div', class_='ui-pdp-header__title-container').text.strip()\n",
    "    try:\n",
    "        reviews = generalinfo.find('span', class_='ui-pdp-review__amount').text.strip()\n",
    "    except:\n",
    "        reviews = 0\n",
    "    try:\n",
    "        rating = generalinfo.find('span', class_='ui-pdp-review__rating').text.strip()\n",
    "    except:\n",
    "        rating = 0\n",
    "    try:\n",
    "        state = soup.find('span', class_='ui-pdp-subtitle').text.strip()\n",
    "    except:\n",
    "        state = 'No Defined'\n",
    "    try:\n",
    "        discount = soup.find('span', class_='andes-money-amount__discount').text.strip()\n",
    "    except:\n",
    "        discount = 0\n",
    "    tables = soup.find_all('table', class_='andes-table')\n",
    "    product = {\n",
    "        'name' : name,\n",
    "        'price' : price,\n",
    "        'rating' : rating,\n",
    "        'reviews' : reviews,\n",
    "        'state' : state,\n",
    "        'discount' : discount,\n",
    "        #'color' : color\n",
    "    }\n",
    "    rowstable = soup.find_all('tr', class_='andes-table__row ui-vpp-striped-specs__row')\n",
    "    for row in rowstable:\n",
    "        key = row.find('th').text\n",
    "        value = row.find('td').text\n",
    "        product[key] = value\n",
    "    print(product, link)\n",
    "    productlist.append(product)\n",
    "print(\"Successfull Scrapper\")"
   ]
  },
  {
   "cell_type": "markdown",
   "metadata": {},
   "source": [
    "Convert the data into a df"
   ]
  },
  {
   "cell_type": "code",
   "execution_count": null,
   "metadata": {},
   "outputs": [],
   "source": [
    "df = pd.DataFrame(productlist)\n",
    "df.head()"
   ]
  }
 ],
 "metadata": {
  "kernelspec": {
   "display_name": "Python 3",
   "language": "python",
   "name": "python3"
  },
  "language_info": {
   "codemirror_mode": {
    "name": "ipython",
    "version": 3
   },
   "file_extension": ".py",
   "mimetype": "text/x-python",
   "name": "python",
   "nbconvert_exporter": "python",
   "pygments_lexer": "ipython3",
   "version": "3.9.6"
  }
 },
 "nbformat": 4,
 "nbformat_minor": 2
}
